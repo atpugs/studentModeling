{
 "cells": [
  {
   "cell_type": "code",
   "execution_count": 1,
   "metadata": {},
   "outputs": [],
   "source": [
    "import csv\n",
    "from statistics import median"
   ]
  },
  {
   "cell_type": "code",
   "execution_count": 3,
   "metadata": {},
   "outputs": [],
   "source": [
    "def get_median_score(col_idx, filenames):\n",
    "    scores = []\n",
    "    for study in filenames:\n",
    "        with open(filenames[study]) as csv_file:\n",
    "            csv_reader = csv.reader(csv_file, delimiter=',')\n",
    "            for row_idx, row in enumerate(csv_reader):\n",
    "                if row[col_idx[study]] != \"\":\n",
    "                    scores.append(row[col_idx[study]])\n",
    "            \n",
    "    return median(scores)"
   ]
  },
  {
   "cell_type": "code",
   "execution_count": 7,
   "metadata": {},
   "outputs": [
    {
     "name": "stdout",
     "output_type": "stream",
     "text": [
      "Posttest median:  4.0\n"
     ]
    }
   ],
   "source": [
    "col_idx = {2018: 12, 2019: 12}\n",
    "filenames = {2018: 'Datasets/ActivitySummary2018.csv', 2019: 'Datasets/ActivitySummary2019.csv'}\n",
    "print(\"Posttest median: \", get_median_score(col_idx, filenames))"
   ]
  },
  {
   "cell_type": "code",
   "execution_count": 8,
   "metadata": {},
   "outputs": [
    {
     "name": "stdout",
     "output_type": "stream",
     "text": [
      "Ratings median:  2\n"
     ]
    }
   ],
   "source": [
    "col_idx = {'combined': 8}\n",
    "filenames = {'combined': 'Datasets/LabeledReflections.csv'}\n",
    "print(\"Ratings median: \", get_median_score(col_idx, filenames))"
   ]
  },
  {
   "cell_type": "code",
   "execution_count": null,
   "metadata": {},
   "outputs": [],
   "source": []
  }
 ],
 "metadata": {
  "kernelspec": {
   "display_name": "Python 3",
   "language": "python",
   "name": "python3"
  },
  "language_info": {
   "codemirror_mode": {
    "name": "ipython",
    "version": 3
   },
   "file_extension": ".py",
   "mimetype": "text/x-python",
   "name": "python",
   "nbconvert_exporter": "python",
   "pygments_lexer": "ipython3",
   "version": "3.7.3"
  }
 },
 "nbformat": 4,
 "nbformat_minor": 2
}
