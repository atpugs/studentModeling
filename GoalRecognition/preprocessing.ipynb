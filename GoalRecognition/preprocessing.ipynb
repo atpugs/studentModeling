{
 "cells": [
  {
   "cell_type": "code",
   "execution_count": 1,
   "metadata": {},
   "outputs": [
    {
     "name": "stdout",
     "output_type": "stream",
     "text": [
      "importing Jupyter notebook from fetch_data.ipynb\n"
     ]
    },
    {
     "name": "stderr",
     "output_type": "stream",
     "text": [
      "/home/agupta44/anaconda3/lib/python3.7/site-packages/pandas/compat/_optional.py:138: UserWarning: Pandas requires version '2.7.0' or newer of 'numexpr' (version '2.6.9' currently installed).\n",
      "  warnings.warn(msg, UserWarning)\n"
     ]
    },
    {
     "name": "stdout",
     "output_type": "stream",
     "text": [
      "INFO:tensorflow:Saver not created because there are no variables in the graph to restore\n"
     ]
    },
    {
     "name": "stderr",
     "output_type": "stream",
     "text": [
      "INFO:tensorflow:Saver not created because there are no variables in the graph to restore\n"
     ]
    },
    {
     "name": "stdout",
     "output_type": "stream",
     "text": [
      "INFO:tensorflow:Graph was finalized.\n"
     ]
    },
    {
     "name": "stderr",
     "output_type": "stream",
     "text": [
      "INFO:tensorflow:Graph was finalized.\n"
     ]
    },
    {
     "name": "stdout",
     "output_type": "stream",
     "text": [
      "INFO:tensorflow:Running local_init_op.\n"
     ]
    },
    {
     "name": "stderr",
     "output_type": "stream",
     "text": [
      "INFO:tensorflow:Running local_init_op.\n"
     ]
    },
    {
     "name": "stdout",
     "output_type": "stream",
     "text": [
      "INFO:tensorflow:Done running local_init_op.\n"
     ]
    },
    {
     "name": "stderr",
     "output_type": "stream",
     "text": [
      "INFO:tensorflow:Done running local_init_op.\n"
     ]
    }
   ],
   "source": [
    "import import_ipynb\n",
    "import numpy as np\n",
    "from statistics import mean, stdev\n",
    "import random\n",
    "import math\n",
    "\n",
    "random.seed(10)\n",
    "\n",
    "from copy import deepcopy\n",
    "\n",
    "from fetch_data import *"
   ]
  },
  {
   "cell_type": "code",
   "execution_count": null,
   "metadata": {},
   "outputs": [],
   "source": [
    "def get_eventct_stats(data, unique_types, feature):\n",
    "    events_cts = [[] for e in unique_types]\n",
    "    mean_eventct = [0 for e in unique_types]\n",
    "    sdv_eventct = [1 for e in unique_types]\n",
    "    \n",
    "    for event_type in range(len(unique_types)):\n",
    "        for s_id in data:\n",
    "            for log in data[s_id]['logs']:\n",
    "                events_cts[event_type].append(log[feature][event_type])\n",
    "    \n",
    "    for event_type in range(len(unique_types)):\n",
    "        if len(events_cts[event_type]) > 0:\n",
    "            mean_eventct[event_type] = mean(events_cts[event_type])\n",
    "            sdv_eventct[event_type] = stdev(events_cts[event_type])\n",
    "        \n",
    "    return mean_eventct, sdv_eventct"
   ]
  },
  {
   "cell_type": "code",
   "execution_count": null,
   "metadata": {},
   "outputs": [],
   "source": [
    "def apply_zscore_norm(data, mean_eventct, sd_eventct, unique_types, feature):\n",
    "    for event_type in range(len(unique_types)):\n",
    "        for s_id in data:\n",
    "            for log in data[s_id]['logs']:\n",
    "                m = mean_eventct[event_type]\n",
    "                s = sd_eventct[event_type]\n",
    "                try:\n",
    "                    log[feature][event_type] = (log[feature][event_type] - m) / s\n",
    "                except:\n",
    "                    log[feature][event_type] = (log[feature][event_type] - m) \n",
    "                \n",
    "    return data"
   ]
  },
  {
   "cell_type": "code",
   "execution_count": null,
   "metadata": {},
   "outputs": [],
   "source": [
    "def create_subsequences(data, seq_length=20, emb_dim=32, max_responses=7):\n",
    "    subsequences = {}\n",
    "    \n",
    "    for s_id in data:\n",
    "        if len(data[s_id]['logs']) == 0:\n",
    "            print(s_id)\n",
    "            continue\n",
    "        default_log = {'event': [0 for e in range(len(events_without_movement))],\n",
    "                       'goal': [0 for g in range(len(plot_names))], \n",
    "                       'locn': [0 for l in range(len(locations))],\n",
    "                       'response_emb': [[0 for e in range(emb_dim)] for m in range(max_responses)],\n",
    "                       'prev_response': \"\",\n",
    "                       'prev_rating': -1,\n",
    "                       'next_goal': data[s_id]['logs'][0]['next_goal'],\n",
    "                       'goal_number': 0,\n",
    "                       'dist': [0 for l in range(len(fewer_plot_names))],\n",
    "                       'current_locn': [0 for l in range(len(locations))],\n",
    "                       'current_event': [0 for e in events_without_movement],\n",
    "                       'seq_goals': [[0 for g in fewer_plot_names] \n",
    "                                     for l in fewer_plot_names]}\n",
    "        new_entry = {'pretest': data[s_id]['pretest'],\n",
    "                     'posttest': data[s_id]['posttest'],\n",
    "                     'logs': [[deepcopy(default_log) for s in range(seq_length-1)]]}\n",
    "        current_idx = 0\n",
    "        \n",
    "        for log in data[s_id]['logs']:\n",
    "            if len(new_entry['logs'][current_idx]) >= seq_length:\n",
    "                new_entry['logs'].append(deepcopy(new_entry['logs'][current_idx][1:seq_length]))\n",
    "                current_idx += 1\n",
    "            new_entry['logs'][current_idx].append(deepcopy(log))\n",
    "        subsequences[s_id] = new_entry\n",
    "        \n",
    "    return subsequences"
   ]
  },
  {
   "cell_type": "code",
   "execution_count": null,
   "metadata": {},
   "outputs": [],
   "source": [
    "def compute_dist(point1, point2):\n",
    "    return math.sqrt((point1[0]-point2[0])**2 + (point1[1]-point2[1])**2)"
   ]
  },
  {
   "cell_type": "code",
   "execution_count": null,
   "metadata": {},
   "outputs": [],
   "source": [
    "def add_location_distances(data):\n",
    "    for s_id in data:\n",
    "        for log in data[s_id]['logs']:\n",
    "            dist_vec = [compute_dist(locn_coord_map[log['current_locn']], \n",
    "                                     locn_coord_map[label_goal_locations[g]]) \n",
    "                        for g in fewer_plot_names]\n",
    "            log['dist'] = deepcopy(dist_vec)\n",
    "            locn_vec = [0 for l in locations]\n",
    "            locn_vec[locations.index(log['current_locn'])] = 1\n",
    "            log['current_locn'] = deepcopy(locn_vec)\n",
    "            event_vec = [0 for e in events_without_movement]\n",
    "            event_vec[events_without_movement.index(log['current_event'])] = 1\n",
    "            log['current_event'] = deepcopy(event_vec)\n",
    "            \n",
    "    return data"
   ]
  },
  {
   "cell_type": "code",
   "execution_count": null,
   "metadata": {},
   "outputs": [],
   "source": [
    "def add_seq_goals(data):\n",
    "    for s_id in data:\n",
    "        for log in data[s_id]['logs']:\n",
    "            log['seq_goals'] = [[0 for g in fewer_plot_names] \n",
    "                                for l in fewer_plot_names]\n",
    "            for i,plot in enumerate(log['prev_goals']):\n",
    "                pos = len(fewer_plot_names) - len(log['prev_goals']) + i\n",
    "                log['seq_goals'][pos][fewer_plot_names.index(plot)] = 1\n",
    "        \n",
    "    return data"
   ]
  },
  {
   "cell_type": "code",
   "execution_count": null,
   "metadata": {},
   "outputs": [],
   "source": [
    "def preprocess_data(data, req_features, seq_length=20):\n",
    "    copy_data = deepcopy(data)\n",
    "    \n",
    "    mean_eventct, sd_eventct = get_eventct_stats(copy_data['Train'], events_without_movement, 'event')  \n",
    "    copy_data['Train'] = apply_zscore_norm(copy_data['Train'], mean_eventct, sd_eventct,\n",
    "                                           events_without_movement, 'event') \n",
    "    copy_data['Val'] = apply_zscore_norm(copy_data['Val'], mean_eventct, sd_eventct,\n",
    "                                         events_without_movement, 'event') \n",
    "    copy_data['Test'] = apply_zscore_norm(copy_data['Test'], mean_eventct, sd_eventct,\n",
    "                                          events_without_movement, 'event') \n",
    "    \n",
    "    mean_locnct, sd_locnct = get_eventct_stats(copy_data['Train'], locations, 'locn')  \n",
    "    copy_data['Train'] = apply_zscore_norm(copy_data['Train'], mean_locnct, sd_locnct,\n",
    "                                           locations, 'locn') \n",
    "    copy_data['Val'] = apply_zscore_norm(copy_data['Val'], mean_locnct, sd_locnct,\n",
    "                                         locations, 'locn') \n",
    "    copy_data['Test'] = apply_zscore_norm(copy_data['Test'], mean_locnct, sd_locnct,\n",
    "                                          locations, 'locn') \n",
    "    \n",
    "    copy_data['Train'] = add_location_distances(copy_data['Train'])\n",
    "    copy_data['Val'] = add_location_distances(copy_data['Val'])\n",
    "    copy_data['Test'] = add_location_distances(copy_data['Test'])\n",
    "    \n",
    "    copy_data['Train'] = add_seq_goals(copy_data['Train'])\n",
    "    copy_data['Val'] = add_seq_goals(copy_data['Val'])\n",
    "    copy_data['Test'] = add_seq_goals(copy_data['Test'])\n",
    "    \n",
    "    copy_data['Train'] = create_subsequences(copy_data['Train'], seq_length=seq_length) \n",
    "    copy_data['Val'] = create_subsequences(copy_data['Val'], seq_length=seq_length) \n",
    "    copy_data['Test'] = create_subsequences(copy_data['Test'], seq_length=seq_length) \n",
    "    \n",
    "    formatted_data = {}\n",
    "    formatted_labels = {}\n",
    "    ids = {}\n",
    "    formatted_data['Train'], formatted_labels['Train'], ids['Train'] = get_features(copy_data['Train'], reqd_features,\n",
    "                                                                                        seq_length=seq_length)\n",
    "    formatted_data['Val'], formatted_labels['Val'], ids['Val'] = get_features(copy_data['Val'], reqd_features,\n",
    "                                                                                  seq_length=seq_length)\n",
    "    formatted_data['Test'], formatted_labels['Test'], ids['Test'] = get_features(copy_data['Test'], reqd_features,\n",
    "                                                                                     seq_length=seq_length)\n",
    "    \n",
    "    return formatted_data, formatted_labels, ids"
   ]
  },
  {
   "cell_type": "code",
   "execution_count": null,
   "metadata": {},
   "outputs": [],
   "source": [
    "def get_features(data, reqd_features, seq_length=20):\n",
    "    X = []\n",
    "    actions_responses = []\n",
    "    pretests = []\n",
    "    ids = []\n",
    "    labels = []\n",
    "    posttests = []\n",
    "    goals = []\n",
    "    goal_ids = []\n",
    "    prev_goals = []\n",
    "    seq_goals = []\n",
    "    dist = []\n",
    "    seq_locnevents = []\n",
    "    responses = []\n",
    "    prev_responses = []\n",
    "    \n",
    "    for s_id in data:\n",
    "        for log in data[s_id]['logs']: # each 'log' is a subsequence of actions\n",
    "            ids.append(s_id)\n",
    "            pretests.append(data[s_id]['pretest']/17.)\n",
    "            posttests.append(data[s_id]['posttest']/17.)\n",
    "            goal_vec = [0 for g in fewer_plot_names]\n",
    "            goal_vec[fewer_plot_names.index(log[seq_length-1]['next_goal'])] = 1\n",
    "            goals.append(deepcopy(goal_vec))\n",
    "            goal_ids.append(s_id+str(log[seq_length-1]['goal_number']))\n",
    "            prev_goals.append(deepcopy(log[seq_length-1]['prev_goals']))\n",
    "            actions_responses.append([])\n",
    "            seq_locnevents.append([])\n",
    "            seq_goals.append(deepcopy(log[seq_length-1]['seq_goals']))\n",
    "            dist.append(deepcopy(log[seq_length-1]['dist']))\n",
    "            responses.append(deepcopy(log[seq_length-1]['response_emb']))\n",
    "            prev_responses.append({'response': deepcopy(log[seq_length-1]['prev_response']),\n",
    "                                   'rating': deepcopy(log[seq_length-1]['prev_rating'])})\n",
    "            for s in range(seq_length):\n",
    "                seq_locnevents[len(seq_locnevents)-1].append(deepcopy(log[s]['current_locn']))\n",
    "                seq_locnevents[len(seq_locnevents)-1][s].extend(deepcopy(log[s]['current_event']))\n",
    "                actions_responses[len(actions_responses)-1].append(deepcopy(log[s]['event']))\n",
    "                actions_responses[len(actions_responses)-1][s].extend(deepcopy(log[s]['goal']))\n",
    "                actions_responses[len(actions_responses)-1][s].extend(deepcopy(log[s]['response_emb']))\n",
    "                actions_responses[len(actions_responses)-1][s].extend(deepcopy(log[s]['locn']))\n",
    "                actions_responses[len(actions_responses)-1][s] = np.array(actions_responses[len(actions_responses)-1][s])\n",
    "           \n",
    "    all_features = {'pretests': pretests, 'posttests': posttests, 'goals': goals,\n",
    "                    'prev_goals': prev_goals, 'action_responses': actions_responses,\n",
    "                    'seq_locnevents': seq_locnevents, 'seq_goals': seq_goals, \n",
    "                    'dist': dist, 'responses': responses, 'prev_responses': prev_responses}\n",
    "    X = [np.array(all_features[feature]) for feature in reqd_features]\n",
    "    labels = np.array(goals)\n",
    "    joint_ids = {'ids': ids, 'goal_ids': goal_ids, 'prev_goals': prev_goals,\n",
    "                 'prev_responses': prev_responses}\n",
    "    \n",
    "    print(len(labels))\n",
    "    \n",
    "    return X, labels, joint_ids"
   ]
  },
  {
   "cell_type": "code",
   "execution_count": null,
   "metadata": {},
   "outputs": [],
   "source": [
    "def get_weighted_avg(response_embs):\n",
    "    mean_responses = [0 for r in response_embs[0]]\n",
    "    \n",
    "    for dim in range(len(response_embs[0])):\n",
    "        total = 0\n",
    "        for emb_idx in range(len(response_embs)):\n",
    "            mean_responses[dim] += response_embs[emb_idx][dim]*math.sqrt((emb_idx + 1))\n",
    "            total += math.sqrt((emb_idx + 1))\n",
    "        mean_responses[dim] /= total\n",
    "    \n",
    "    return mean_responses"
   ]
  }
 ],
 "metadata": {
  "kernelspec": {
   "display_name": "Python 3",
   "language": "python",
   "name": "python3"
  },
  "language_info": {
   "codemirror_mode": {
    "name": "ipython",
    "version": 3
   },
   "file_extension": ".py",
   "mimetype": "text/x-python",
   "name": "python",
   "nbconvert_exporter": "python",
   "pygments_lexer": "ipython3",
   "version": "3.7.3"
  }
 },
 "nbformat": 4,
 "nbformat_minor": 2
}
